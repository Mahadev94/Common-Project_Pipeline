{
 "cells": [
  {
   "cell_type": "code",
   "execution_count": 1,
   "metadata": {},
   "outputs": [],
   "source": [
    "#with dataclasses we can directly create variable names without crating __init__() varible initialization methods\n",
    "# DataClass module provides a handy way to make classes less wordy.\n",
    " \n",
    "# Let us see the traditional approach without using DataClass.\n",
    "\n",
    "# for eg:--> 1. creating the employee class\n",
    "\n",
    "class employees:\n",
    "    #crate init method\n",
    "    def __init__(self,name,emp_id,age,city):\n",
    "        #instance variables\n",
    "        self.name=name\n",
    "        self.emp_id=emp_id\n",
    "        self.age=age\n",
    "        self.city=city\n",
    "\n",
    "    #create magic function to class object\n",
    "    def __repr__(self):\n",
    "        return (f\"name={self.name}, emp_id={self.emp_id}, age={self.age}, city={self.city}\")\n",
    "    \n",
    "    #create Magic function to return Boolean value\n",
    "    def __eq__(self,check):\n",
    "        return ((self.name,self.emp_id,self.age,self.city)==(check.name,check.emp_id,check.age,check.city))\n",
    "\n",
    "#creating objects\n",
    "emp1=employees(\"Mahadev\",\"emp100\",30,\"Pune\")\n",
    "emp2=employees(\"Dinesh\",\"emp200\",30,\"Mumbai\")\n",
    "emp3=employees(\"Mahadev\",\"emp100\",30,\"Pune\")\n",
    "\n"
   ]
  },
  {
   "cell_type": "code",
   "execution_count": 5,
   "metadata": {},
   "outputs": [
    {
     "name": "stdout",
     "output_type": "stream",
     "text": [
      "name=Mahadev, emp_id=emp100, age=30, city=Pune\n",
      "name=Dinesh, emp_id=emp200, age=30, city=Mumbai\n",
      "name=Mahadev, emp_id=emp100, age=30, city=Pune\n"
     ]
    }
   ],
   "source": [
    "#print class objects\n",
    "print(emp1)\n",
    "print(emp2)\n",
    "print(emp3)"
   ]
  },
  {
   "cell_type": "code",
   "execution_count": 7,
   "metadata": {},
   "outputs": [
    {
     "name": "stdout",
     "output_type": "stream",
     "text": [
      "emp1 object and emp2 are same: False\n",
      "emp1 object and emp3 objects are same: True\n"
     ]
    }
   ],
   "source": [
    "#refrering two objects to check equality\n",
    "print(f\"emp1 object and emp2 are same: {emp1==emp2}\")\n",
    "print(f\"emp1 object and emp3 objects are same: {emp1==emp3}\")"
   ]
  },
  {
   "cell_type": "markdown",
   "metadata": {},
   "source": [
    "In the above code the biggest problem in passing the argument in __init__, __repr__, and __eq__. Each time it has to copy its properties and return the object. It is a good way of dealing with a small amount of data but supposes we have work with large data. It makes your code more complicated. So, that why DataClass will implement to make your code easier and handy.\n",
    "\n",
    "Here are the same example, implemented in Python DataClasses. "
   ]
  },
  {
   "cell_type": "code",
   "execution_count": 14,
   "metadata": {},
   "outputs": [],
   "source": [
    "#importing the dataclasses\n",
    "from dataclasses import dataclass\n",
    "\n",
    "#crating employee class with the use of dataclass\n",
    "\n",
    "@dataclass\n",
    "class employee:\n",
    "    #declare variables with type hint\n",
    "    name:str\n",
    "    emp_id:str\n",
    "    age:int\n",
    "    city:str\n",
    "\n",
    "#creating objects of class\n",
    "emp1=employee(\"Mahadev\",\"emp100\",30,\"Pune\")\n",
    "emp2=employee(\"Dinesh\",\"emp200\",30,\"Mumbai\")\n",
    "emp3=employee(\"Mahadev\",\"emp100\",30,\"Pune\")"
   ]
  },
  {
   "cell_type": "code",
   "execution_count": 15,
   "metadata": {},
   "outputs": [
    {
     "name": "stdout",
     "output_type": "stream",
     "text": [
      "employee(name='Mahadev', emp_id='emp100', age=30, city='Pune')\n",
      "employee(name='Dinesh', emp_id='emp200', age=30, city='Mumbai')\n",
      "employee(name='Mahadev', emp_id='emp100', age=30, city='Pune')\n"
     ]
    }
   ],
   "source": [
    "#now similar to general class we calling class objects\n",
    "\n",
    "print(emp1) #so it will automatically call magic function for class object\n",
    "print(emp2)\n",
    "print(emp3)"
   ]
  },
  {
   "cell_type": "code",
   "execution_count": 17,
   "metadata": {},
   "outputs": [
    {
     "name": "stdout",
     "output_type": "stream",
     "text": [
      "False\n",
      "True\n"
     ]
    }
   ],
   "source": [
    "#similary check for equality\n",
    "print(emp1==emp2)\n",
    "print(emp1==emp3)"
   ]
  },
  {
   "cell_type": "markdown",
   "metadata": {},
   "source": [
    "#### DataClass Inheritance\n",
    "\n",
    "Inheritance enables us to define a class that takes all the functionality from a parent class.\n",
    "\n",
    "Example: Child class inherits the properties of the parent class."
   ]
  },
  {
   "cell_type": "code",
   "execution_count": 18,
   "metadata": {},
   "outputs": [
    {
     "name": "stdout",
     "output_type": "stream",
     "text": [
      "child(name='mk', age=30, city='Pune', salary=1000)\n"
     ]
    }
   ],
   "source": [
    "@dataclass\n",
    "class parent:\n",
    "    name:str\n",
    "    age:int\n",
    "\n",
    "\n",
    "@dataclass\n",
    "class child(parent):\n",
    "    city:str\n",
    "    salary:int\n",
    "\n",
    "\n",
    "#creating object for child class\n",
    "details=child(\"mk\",30,\"Pune\",1000)\n",
    "print(details)"
   ]
  }
 ],
 "metadata": {
  "kernelspec": {
   "display_name": "Python 3",
   "language": "python",
   "name": "python3"
  },
  "language_info": {
   "codemirror_mode": {
    "name": "ipython",
    "version": 3
   },
   "file_extension": ".py",
   "mimetype": "text/x-python",
   "name": "python",
   "nbconvert_exporter": "python",
   "pygments_lexer": "ipython3",
   "version": "3.8.18"
  },
  "orig_nbformat": 4
 },
 "nbformat": 4,
 "nbformat_minor": 2
}
